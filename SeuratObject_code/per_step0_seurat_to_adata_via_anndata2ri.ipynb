{
 "cells": [
  {
   "cell_type": "code",
   "execution_count": 2,
   "id": "176610a7",
   "metadata": {},
   "outputs": [],
   "source": [
    "import scanpy as sc\n",
    "import numpy as np\n",
    "import anndata as ad\n",
    "import anndata2ri"
   ]
  },
  {
   "cell_type": "code",
   "execution_count": 3,
   "id": "14caed1b",
   "metadata": {},
   "outputs": [
    {
     "name": "stdout",
     "output_type": "stream",
     "text": [
      "-----\n",
      "anndata     0.9.1\n",
      "scanpy      1.9.3\n",
      "-----\n",
      "PIL                         9.5.0\n",
      "anndata2ri                  1.1\n",
      "asttokens                   NA\n",
      "backcall                    0.2.0\n",
      "cffi                        1.15.1\n",
      "comm                        0.1.3\n",
      "cycler                      0.10.0\n",
      "cython_runtime              NA\n",
      "dateutil                    2.8.2\n",
      "debugpy                     1.6.7\n",
      "decorator                   5.1.1\n",
      "defusedxml                  0.7.1\n",
      "executing                   1.2.0\n",
      "h5py                        3.8.0\n",
      "igraph                      0.10.4\n",
      "ipykernel                   6.22.0\n",
      "ipython_genutils            0.2.0\n",
      "jedi                        0.18.2\n",
      "jinja2                      3.1.2\n",
      "joblib                      1.2.0\n",
      "kiwisolver                  1.4.4\n",
      "leidenalg                   0.9.1\n",
      "llvmlite                    0.39.1\n",
      "markupsafe                  2.1.2\n",
      "matplotlib                  3.7.1\n",
      "mpl_toolkits                NA\n",
      "natsort                     8.3.1\n",
      "numba                       0.56.4\n",
      "numpy                       1.23.5\n",
      "packaging                   23.1\n",
      "pandas                      2.0.1\n",
      "parso                       0.8.3\n",
      "pexpect                     4.8.0\n",
      "pickleshare                 0.7.5\n",
      "pkg_resources               NA\n",
      "platformdirs                3.2.0\n",
      "prompt_toolkit              3.0.38\n",
      "psutil                      5.9.5\n",
      "ptyprocess                  0.7.0\n",
      "pure_eval                   0.2.2\n",
      "pydev_ipython               NA\n",
      "pydevconsole                NA\n",
      "pydevd                      2.9.5\n",
      "pydevd_file_utils           NA\n",
      "pydevd_plugins              NA\n",
      "pydevd_tracing              NA\n",
      "pygments                    2.15.1\n",
      "pyparsing                   3.0.9\n",
      "pytz                        2023.3\n",
      "pytz_deprecation_shim       NA\n",
      "rpy2                        3.5.11\n",
      "scipy                       1.10.1\n",
      "session_info                1.0.0\n",
      "setuptools                  67.7.1\n",
      "six                         1.16.0\n",
      "sklearn                     1.2.2\n",
      "stack_data                  0.6.2\n",
      "texttable                   1.6.7\n",
      "threadpoolctl               3.1.0\n",
      "tornado                     6.3.1\n",
      "traitlets                   5.9.0\n",
      "tzlocal                     NA\n",
      "wcwidth                     0.2.6\n",
      "yaml                        6.0\n",
      "zmq                         25.0.2\n",
      "zoneinfo                    NA\n",
      "-----\n",
      "IPython             8.12.0\n",
      "jupyter_client      8.2.0\n",
      "jupyter_core        5.3.0\n",
      "notebook            6.5.4\n",
      "-----\n",
      "Python 3.10.10 | packaged by conda-forge | (main, Mar 24 2023, 20:08:06) [GCC 11.3.0]\n",
      "Linux-5.19.0-40-generic-x86_64-with-glibc2.35\n",
      "-----\n",
      "Session information updated at 2023-04-28 09:58\n"
     ]
    }
   ],
   "source": [
    "# Activate the anndata2ri conversion between SingleCellExperiment and AnnData\n",
    "anndata2ri.activate()\n",
    "#Loading the rpy2 extension enables cell magic to be used\n",
    "#This runs R code in jupyter notebook cells\n",
    "%load_ext rpy2.ipython\n",
    "sc.settings.verbosity = 3\n",
    "sc.logging.print_versions()"
   ]
  },
  {
   "cell_type": "code",
   "execution_count": 11,
   "id": "acb71ed2",
   "metadata": {},
   "outputs": [
    {
     "name": "stdout",
     "output_type": "stream",
     "text": [
      "An object of class Seurat \n",
      "174547 features across 13241 samples within 2 assays \n",
      "Active assay: ATAC (137993 features, 137993 variable features)\n",
      " 1 other assay present: RNA\n",
      " 2 dimensional reductions calculated: pca, umap\n"
     ]
    }
   ],
   "source": [
    "%%R\n",
    "suppressPackageStartupMessages(library(Seurat))\n",
    "suppressPackageStartupMessages(library(Signac))\n",
    "scATAC<- readRDS(\"scMEGA_cor40_multiome_subset_aPTxPTS12.RDS\")\n", 
    "scATAC"
   ]
  },
  {
   "cell_type": "code",
   "execution_count": 12,
   "id": "1363bfc1",
   "metadata": {},
   "outputs": [
    {
     "name": "stdout",
     "output_type": "stream",
     "text": [
      "class: SingleCellExperiment \n",
      "dim: 137993 13241 \n",
      "metadata(0):\n",
      "assays(2): X logcounts\n",
      "rownames(137993): chr1-9921-10519 chr1-99560-99792 ...\n",
      "  chrY-56855620-56855818 chrY-56870782-56870980\n",
      "rowData names(0):\n",
      "colnames(13241): KC98_AAACAGCCAAAGCTCC-1 KC98_AAACAGCCACGAATCC-1 ...\n",
      "  KC114_TTTGTCTAGCAAGGGT-1 KC114_TTTGTTGGTTCGCGCT-1\n",
      "colData names(76): library nCount_RNA ... PTS12.l3 ident\n",
      "reducedDimNames(0):\n",
      "mainExpName: NULL\n",
      "altExpNames(0):\n"
     ]
    }
   ],
   "source": [
    "%%R -o sn_sce\n",
    "#convert the Seurat object to a SingleCellExperiment object\n",
    "sn_sce <- as.SingleCellExperiment(scATAC)\n",
    "sn_sce"
   ]
  },
  {
   "cell_type": "code",
   "execution_count": 13,
   "id": "9fb5dc43",
   "metadata": {},
   "outputs": [],
   "source": [
    "sn_sce.write_h5ad('scMEGA_cor40_multiome_subset_aPTxPTS12.h5ad')"
   ]
  }
 ],
 "metadata": {
  "kernelspec": {
   "display_name": "Python 3 (ipykernel)",
   "language": "python",
   "name": "python3"
  },
  "language_info": {
   "codemirror_mode": {
    "name": "ipython",
    "version": 3
   },
   "file_extension": ".py",
   "mimetype": "text/x-python",
   "name": "python",
   "nbconvert_exporter": "python",
   "pygments_lexer": "ipython3",
   "version": "3.10.11"
  }
 },
 "nbformat": 4,
 "nbformat_minor": 5
}
